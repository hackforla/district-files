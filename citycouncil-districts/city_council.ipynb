{
 "cells": [
  {
   "cell_type": "code",
   "execution_count": 1,
   "metadata": {},
   "outputs": [],
   "source": [
    "import sys\n",
    "from drive_utils import settings\n",
    "# Manually specify the path to the utilities module\n",
    "sys.path.append(settings.my_path)\n",
    "\n",
    "from utilities import fetch_and_create_shapefile\n",
    "from drive_utils import drive_operations"
   ]
  },
  {
   "cell_type": "code",
   "execution_count": 2,
   "metadata": {},
   "outputs": [
    {
     "name": "stdout",
     "output_type": "stream",
     "text": [
      "   OBJECTID                NAME  District           District_Name  \\\n",
      "0         1  Eunisses Hernandez         1  1 - Eunisses Hernandez   \n",
      "1         2      Paul Krekorian         2      2 - Paul Krekorian   \n",
      "2         3     Bob Blumenfield         3     3 - Bob Blumenfield   \n",
      "3         4        Nithya Raman         4        4 - Nithya Raman   \n",
      "4         5    Katy Yaroslavsky         5    5 - Katy Yaroslavsky   \n",
      "\n",
      "                                          TOOLTIP  \\\n",
      "0  Councilmember: Eunisses Hernandez\\nDistrict: 1   \n",
      "1      Councilmember: Paul Krekorian\\nDistrict: 2   \n",
      "2     Councilmember: Bob Blumenfield\\nDistrict: 3   \n",
      "3        Councilmember: Nithya Raman\\nDistrict: 4   \n",
      "4    Councilmember: Katy Yaroslavsky\\nDistrict: 5   \n",
      "\n",
      "                                             NLA_URL  \\\n",
      "0  https://councildistrict1.lacity.gov/?nla_win=p...   \n",
      "1  https://councildistrict2.lacity.gov/?nla_win=p...   \n",
      "2  https://councildistrict3.lacity.gov/?nla_win=p...   \n",
      "3  https://councildistrict4.lacity.gov/?nla_win=p...   \n",
      "4  https://councildistrict5.lacity.gov/?nla_win=p...   \n",
      "\n",
      "                                            geometry  \n",
      "0  POLYGON ((-118.26870 34.04671, -118.26890 34.0...  \n",
      "1  POLYGON ((-118.33733 34.22104, -118.33456 34.2...  \n",
      "2  POLYGON ((-118.54920 34.22053, -118.54920 34.2...  \n",
      "3  POLYGON ((-118.51861 34.20841, -118.51860 34.2...  \n",
      "4  POLYGON ((-118.39160 34.11243, -118.39231 34.1...  \n",
      "Shapefile created at ./output_shapefile_city_council.shp\n"
     ]
    },
    {
     "name": "stderr",
     "output_type": "stream",
     "text": [
      "/home/aletia/wsl_code/hforla-ds-118/utilities.py:59: UserWarning: Column names longer than 10 characters will be truncated when saved to ESRI Shapefile.\n",
      "  gdf.to_file(shapefile_path)\n"
     ]
    }
   ],
   "source": [
    "# The API endpoint URL\n",
    "api_url = 'https://maps.lacity.org/lahub/rest/services/Boundaries/MapServer/13/query?where=1%3D1&outFields=*&outSR=4326&f=json'\n",
    "district = \"city_council\"\n",
    "\n",
    "fetch_and_create_shapefile(api_url, district)"
   ]
  }
 ],
 "metadata": {
  "kernelspec": {
   "display_name": "Python 3",
   "language": "python",
   "name": "python3"
  },
  "language_info": {
   "codemirror_mode": {
    "name": "ipython",
    "version": 3
   },
   "file_extension": ".py",
   "mimetype": "text/x-python",
   "name": "python",
   "nbconvert_exporter": "python",
   "pygments_lexer": "ipython3",
   "version": "3.10.6"
  }
 },
 "nbformat": 4,
 "nbformat_minor": 2
}
