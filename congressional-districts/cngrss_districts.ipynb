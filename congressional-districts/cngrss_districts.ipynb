{
 "cells": [
  {
   "cell_type": "code",
   "execution_count": 1,
   "metadata": {},
   "outputs": [],
   "source": [
    "import sys\n",
    "sys.path.append('/home/aletia/wsl_code/hforla-ds-118/')\n",
    "from utilities import fetch_and_create_shapefile, get_folder_size"
   ]
  },
  {
   "cell_type": "code",
   "execution_count": 2,
   "metadata": {},
   "outputs": [
    {
     "name": "stdout",
     "output_type": "stream",
     "text": [
      "   OBJECTID  Shape.STArea()  Shape.STLength()  DIST_CONG  \\\n",
      "0        19    5.447765e+09      4.986046e+05         23   \n",
      "1        20    4.598791e+10      1.449651e+06         25   \n",
      "2        21    1.535722e+08      6.420495e+04         26   \n",
      "3        22    1.925878e+10      9.946286e+05         27   \n",
      "4        23    6.146278e+09      6.629586e+05         28   \n",
      "\n",
      "                   LABEL  ABBR  \\\n",
      "0  23RD US CONGRESSIONAL  0223   \n",
      "1  25TH US CONGRESSIONAL  0225   \n",
      "2  26TH US CONGRESSIONAL  0226   \n",
      "3  27TH US CONGRESSIONAL  0227   \n",
      "4  28TH US CONGRESSIONAL  0228   \n",
      "\n",
      "                                            geometry  \n",
      "0  POLYGON ((-117.77370 34.82249, -117.77370 34.8...  \n",
      "1  POLYGON ((-117.76687 34.82328, -117.75703 34.8...  \n",
      "2  POLYGON ((-118.78890 34.16822, -118.78943 34.1...  \n",
      "3  POLYGON ((-118.04515 34.49930, -118.04511 34.4...  \n",
      "4  POLYGON ((-118.32497 34.43806, -118.32535 34.4...  \n",
      "Shapefile created at ./output_shapefile_congressional.shp\n"
     ]
    },
    {
     "name": "stderr",
     "output_type": "stream",
     "text": [
      "/home/aletia/wsl_code/hforla-ds-118/utilities.py:59: UserWarning: Column names longer than 10 characters will be truncated when saved to ESRI Shapefile.\n",
      "  gdf.to_file(shapefile_path)\n"
     ]
    }
   ],
   "source": [
    "# The API endpoint URL\n",
    "api_url = 'https://arcgis.gis.lacounty.gov/arcgis/rest/services/LACounty_Dynamic/Political_Boundaries/MapServer/2/query?where=1%3D1&outFields=*&outSR=4326&f=json'\n",
    "district = \"congressional\"\n",
    "\n",
    "fetch_and_create_shapefile(api_url, district)"
   ]
  },
  {
   "cell_type": "code",
   "execution_count": 4,
   "metadata": {},
   "outputs": [
    {
     "data": {
      "text/plain": [
       "1123433"
      ]
     },
     "execution_count": 4,
     "metadata": {},
     "output_type": "execute_result"
    }
   ],
   "source": [
    "get_folder_size('/home/aletia/wsl_code/hforla-ds-118/congressional-districts')"
   ]
  }
 ],
 "metadata": {
  "kernelspec": {
   "display_name": "Python 3",
   "language": "python",
   "name": "python3"
  },
  "language_info": {
   "codemirror_mode": {
    "name": "ipython",
    "version": 3
   },
   "file_extension": ".py",
   "mimetype": "text/x-python",
   "name": "python",
   "nbconvert_exporter": "python",
   "pygments_lexer": "ipython3",
   "version": "3.10.6"
  }
 },
 "nbformat": 4,
 "nbformat_minor": 2
}
