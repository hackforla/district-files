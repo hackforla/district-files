{
 "cells": [
  {
   "cell_type": "code",
   "execution_count": null,
   "metadata": {},
   "outputs": [],
   "source": [
    "# shape files\n",
    "import requests\n",
    "import os\n",
    "import geopandas as gpd\n",
    "import matplotlib.pyplot as plt\n",
    "from shapely.geometry import Polygon\n",
    "import json\n",
    "# DRIVE https://drive.google.com/drive/folders/1KsIfAFmp0ArLauvHY1k9wRc9ZXaPDahe\n",
    "# Make a GET request to the API endpoint\n",
    "# Example usage: Waterworks District Boundries\n",
    "api_url = 'https://dpw.gis.lacounty.gov/dpw/rest/services/PW_Open_Data/MapServer/21/query?where=1%3D1&outFields=*&outSR=4326&f=json'\n",
    "district = \"sample\"\n",
    "try:\n",
    "    response = requests.get(api_url)\n",
    "    response.raise_for_status()  # Will raise an HTTPError for bad requests (4XX, 5XX)\n",
    "except requests.RequestException as e:\n",
    "    print(f\"Request failed: {e}\")\n",
    "\n",
    "# Parse JSON response\n",
    "try:\n",
    "    data = response.json()\n",
    "except json.JSONDecodeError:\n",
    "    print(\"Failed to decode JSON from response\")\n",
    "\n",
    "if 'features' in data:\n",
    "    features = data['features']\n",
    "    properties_list = []\n",
    "    geometry_list = []\n",
    "\n",
    "    # Process each feature to extract geometry and attributes\n",
    "    for feature in features:\n",
    "        attributes = feature['attributes']\n",
    "        properties_list.append(attributes)\n",
    "        \n",
    "        # Construct the geometry using shapely\n",
    "        if 'geometry' in feature and 'rings' in feature['geometry']:\n",
    "            polygon = Polygon([tuple(l) for l in feature['geometry']['rings'][0]])\n",
    "            geometry_list.append(polygon)\n",
    "        else:\n",
    "            geometry_list.append(None)"
   ]
  },
  {
   "cell_type": "code",
   "execution_count": null,
   "metadata": {},
   "outputs": [],
   "source": [
    "import numpy as np\n",
    "from shapely.geometry import Polygon\n",
    "from sklearn.decomposition import TruncatedSVD\n",
    "\n",
    "def compress_geometries(geometry_list, n_components=5):\n",
    "    # Flatten geometry to a numpy array\n",
    "    coord_list = [np.array(poly.exterior.coords).ravel() for poly in geometry_list if poly is not None]\n",
    "    max_len = max(len(coords) for coords in coord_list)\n",
    "    data_matrix = np.array([np.pad(coords, (0, max_len - len(coords)), 'constant') for coords in coord_list])\n",
    "    \n",
    "    # Apply SVD\n",
    "    svd = TruncatedSVD(n_components=n_components)\n",
    "    reduced_data = svd.fit_transform(data_matrix)\n",
    "    \n",
    "    return reduced_data, svd\n",
    "\n",
    "# Example use with your geometry list\n",
    "compressed_data, svd_model = compress_geometries(geometry_list)"
   ]
  }
 ],
 "metadata": {
  "language_info": {
   "name": "python"
  }
 },
 "nbformat": 4,
 "nbformat_minor": 2
}
