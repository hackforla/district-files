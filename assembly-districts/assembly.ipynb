{
 "cells": [
  {
   "cell_type": "code",
   "execution_count": 6,
   "metadata": {},
   "outputs": [],
   "source": [
    "\n",
    "import sys\n",
    "from drive_utils import settings\n",
    "# Manually specify the path to the utilities module\n",
    "sys.path.append(settings.my_path)\n",
    "\n",
    "from utilities import fetch_and_create_shapefile\n",
    "from drive_utils import drive_operations"
   ]
  },
  {
   "cell_type": "code",
   "execution_count": null,
   "metadata": {},
   "outputs": [],
   "source": [
    "parent_folder_id = settings.folder_id\n",
    "api_url = 'https://maps.lacity.org/lahub/rest/services/Boundaries/MapServer/2/query?where=1%3D1&outFields=*&outSR=4326&f=json'\n",
    "district = \"assembly\"\n",
    "\n",
    "# drive_operations.list_contents_of_folder(parent_folder_id)\n",
    "fetch_and_create_shapefile(api_url, district, parent_folder_id)"
   ]
  }
 ],
 "metadata": {
  "kernelspec": {
   "display_name": "Python 3",
   "language": "python",
   "name": "python3"
  },
  "language_info": {
   "codemirror_mode": {
    "name": "ipython",
    "version": 3
   },
   "file_extension": ".py",
   "mimetype": "text/x-python",
   "name": "python",
   "nbconvert_exporter": "python",
   "pygments_lexer": "ipython3",
   "version": "3.10.6"
  }
 },
 "nbformat": 4,
 "nbformat_minor": 2
}
