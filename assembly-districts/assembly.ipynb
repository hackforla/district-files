{
 "cells": [
  {
   "cell_type": "code",
   "execution_count": 1,
   "metadata": {},
   "outputs": [],
   "source": [
    "import sys\n",
    "# Manually specify the path to the utilities module\n",
    "sys.path.append('/home/aletia/wsl_code/geohubLA_data_collection/')\n",
    "\n",
    "from utilities import fetch_and_create_shapefile\n",
    "from drive_utils import drive_operations"
   ]
  },
  {
   "cell_type": "code",
   "execution_count": 2,
   "metadata": {},
   "outputs": [
    {
     "name": "stdout",
     "output_type": "stream",
     "text": [
      "   OBJECTID             NAME      Effective  District         District_Name  \\\n",
      "0         1    Pilar Schiavo  1670198400000        40    40 - Pilar Schiavo   \n",
      "1         2     Jacqui Irwin  1670198400000        42     42 - Jacqui Irwin   \n",
      "2         3  Luz Maria Rivas  1670198400000        43  43 - Luz Maria Rivas   \n",
      "3         4   Laura Friedman  1670198400000        44   44 - Laura Friedman   \n",
      "4         5    Jesse Gabriel  1670198400000        46    46 - Jesse Gabriel   \n",
      "\n",
      "                                          TOOLTIP  \\\n",
      "0    Assembly Member: Pilar Schiavo\\nDistrict: 40   \n",
      "1     Assembly Member: Jacqui Irwin\\nDistrict: 42   \n",
      "2  Assembly Member: Luz Maria Rivas\\nDistrict: 43   \n",
      "3   Assembly Member: Laura Friedman\\nDistrict: 44   \n",
      "4    Assembly Member: Jesse Gabriel\\nDistrict: 46   \n",
      "\n",
      "                                             NLA_URL Shape_Leng Revised  \\\n",
      "0  https://www.assembly.ca.gov/assemblymembers/?n...       None    None   \n",
      "1  https://www.assembly.ca.gov/assemblymembers/?n...       None    None   \n",
      "2  https://www.assembly.ca.gov/assemblymembers/?n...       None    None   \n",
      "3  https://www.assembly.ca.gov/assemblymembers/?n...       None    None   \n",
      "4  https://www.assembly.ca.gov/assemblymembers/?n...       None    None   \n",
      "\n",
      "                                            geometry  \n",
      "0  POLYGON ((-118.48932 34.31484, -118.48888 34.3...  \n",
      "1  POLYGON ((-118.45140 34.13176, -118.45117 34.1...  \n",
      "2  POLYGON ((-118.48570 34.33034, -118.48441 34.3...  \n",
      "3  POLYGON ((-118.28648 34.28714, -118.28659 34.2...  \n",
      "4  POLYGON ((-118.47309 34.22139, -118.47312 34.2...  \n",
      "Folder already exists: assembly with ID: 1sR9ChT2GF4PrKDtMHpnRjYIo9r37QJZ0\n"
     ]
    },
    {
     "name": "stderr",
     "output_type": "stream",
     "text": [
      "/home/aletia/wsl_code/geohubLA_data_collection/utilities.py:132: UserWarning: Column names longer than 10 characters will be truncated when saved to ESRI Shapefile.\n",
      "  gdf.to_file(shapefile_base_path, driver='ESRI Shapefile')\n"
     ]
    },
    {
     "name": "stdout",
     "output_type": "stream",
     "text": [
      "Uploaded file with ID: 1DgrmFdmmMaBbaVeOt7JLcJJYDRAxoIke\n",
      "Uploaded file with ID: 1eZK-Iav_gu49w3YodCX_FMlRGuBJkecW\n",
      "Uploaded file with ID: 1sWNoXfhiX4IN8VsNpPsg9xZG9b4-7Tuc\n",
      "Uploaded file with ID: 1gM10EIaLXcXLIlWipJKo7kg7YqH6g3_l\n",
      "Shapefiles for district assembly successfully uploaded to Google Drive.\n"
     ]
    }
   ],
   "source": [
    "parent_folder_id = '1NW3dUo2MxqsQAqpUWp3yaScMaFOS8lg_'\n",
    "api_url = 'https://maps.lacity.org/lahub/rest/services/Boundaries/MapServer/2/query?where=1%3D1&outFields=*&outSR=4326&f=json'\n",
    "district = \"assembly\"\n",
    "\n",
    "# drive_operations.list_contents_of_folder(parent_folder_id)\n",
    "fetch_and_create_shapefile(api_url, district, parent_folder_id)"
   ]
  }
 ],
 "metadata": {
  "kernelspec": {
   "display_name": "Python 3",
   "language": "python",
   "name": "python3"
  },
  "language_info": {
   "codemirror_mode": {
    "name": "ipython",
    "version": 3
   },
   "file_extension": ".py",
   "mimetype": "text/x-python",
   "name": "python",
   "nbconvert_exporter": "python",
   "pygments_lexer": "ipython3",
   "version": "3.10.6"
  }
 },
 "nbformat": 4,
 "nbformat_minor": 2
}
