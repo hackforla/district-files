{
 "cells": [
  {
   "cell_type": "code",
   "execution_count": 1,
   "metadata": {},
   "outputs": [],
   "source": [
    "import sys\n",
    "from drive_utils import settings\n",
    "# Manually specify the path to the utilities module\n",
    "sys.path.append(settings.my_path)\n",
    "\n",
    "from utilities import fetch_and_create_shapefile\n",
    "from drive_utils import drive_operations"
   ]
  },
  {
   "cell_type": "code",
   "execution_count": 2,
   "metadata": {},
   "outputs": [
    {
     "name": "stdout",
     "output_type": "stream",
     "text": [
      "   OBJECTID             NAME      Effective  District        District_Name  \\\n",
      "0         1   Hilda L. Solis  1417392000000         1   1 - Hilda L. Solis   \n",
      "1         2   Holly Mitchell  1607212800000         2   2 - Holly Mitchell   \n",
      "2         3  Lindsey Horvath  1670198400000         3  3 - Lindsey Horvath   \n",
      "3         4      Janice Hahn  1480896000000         4      4 - Janice Hahn   \n",
      "4         5   Kathryn Barger  1480896000000         5   5 - Kathryn Barger   \n",
      "\n",
      "                                    TOOLTIP  \\\n",
      "0   Supervisor: Hilda L. Solis\\nDistrict: 1   \n",
      "1   Supervisor: Holly Mitchell\\nDistrict: 2   \n",
      "2  Supervisor: Lindsey Horvath\\nDistrict: 3   \n",
      "3      Supervisor: Janice Hahn\\nDistrict: 4   \n",
      "4   Supervisor: Kathryn Barger\\nDistrict: 5   \n",
      "\n",
      "                                             NLA_URL Revised  \\\n",
      "0  http://bos.co.la.ca.us/?nla_win=p,75,75&nla_ta...    None   \n",
      "1  http://bos.co.la.ca.us/?nla_win=p,75,75&nla_ta...    None   \n",
      "2  http://bos.co.la.ca.us/?nla_win=p,75,75&nla_ta...    None   \n",
      "3  http://bos.co.la.ca.us/?nla_win=p,75,75&nla_ta...    None   \n",
      "4  http://bos.co.la.ca.us/?nla_win=p,75,75&nla_ta...    None   \n",
      "\n",
      "                                            geometry  \n",
      "0  POLYGON ((-118.27374 34.14961, -118.27224 34.1...  \n",
      "1  POLYGON ((-118.33415 34.08031, -118.33414 34.0...  \n",
      "2  POLYGON ((-118.49273 34.33063, -118.49272 34.3...  \n",
      "3  POLYGON ((-118.22245 33.80416, -118.22681 33.7...  \n",
      "4  POLYGON ((-118.38741 34.29879, -118.38740 34.2...  \n",
      "Shapefile created at ./output_shapefile_supervisors.shp\n"
     ]
    },
    {
     "name": "stderr",
     "output_type": "stream",
     "text": [
      "/home/aletia/wsl_code/hforla-ds-118/utilities.py:59: UserWarning: Column names longer than 10 characters will be truncated when saved to ESRI Shapefile.\n",
      "  gdf.to_file(shapefile_path)\n"
     ]
    }
   ],
   "source": [
    "# The API endpoint URL\n",
    "api_url = 'https://maps.lacity.org/lahub/rest/services/Boundaries/MapServer/4/query?where=1%3D1&outFields=*&outSR=4326&f=json'\n",
    "district = \"supervisors\"\n",
    "\n",
    "fetch_and_create_shapefile(api_url, district)"
   ]
  }
 ],
 "metadata": {
  "kernelspec": {
   "display_name": "Python 3",
   "language": "python",
   "name": "python3"
  },
  "language_info": {
   "codemirror_mode": {
    "name": "ipython",
    "version": 3
   },
   "file_extension": ".py",
   "mimetype": "text/x-python",
   "name": "python",
   "nbconvert_exporter": "python",
   "pygments_lexer": "ipython3",
   "version": "3.10.6"
  }
 },
 "nbformat": 4,
 "nbformat_minor": 2
}
