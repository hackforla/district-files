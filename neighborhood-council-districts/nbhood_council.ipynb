{
 "cells": [
  {
   "cell_type": "code",
   "execution_count": 1,
   "metadata": {},
   "outputs": [],
   "source": [
    "import sys\n",
    "from drive_utils import settings\n",
    "# Manually specify the path to the utilities module\n",
    "sys.path.append(settings.my_path)\n",
    "\n",
    "from utilities import fetch_and_create_shapefile\n",
    "from drive_utils import drive_operations"
   ]
  },
  {
   "cell_type": "code",
   "execution_count": 2,
   "metadata": {},
   "outputs": [
    {
     "name": "stdout",
     "output_type": "stream",
     "text": [
      "   FID                   Name  \\\n",
      "0    1                 Arleta   \n",
      "1    2            Arroyo Seco   \n",
      "2    3        Atwater Village   \n",
      "3    4  Bel Air-Beverly Crest   \n",
      "4    5          Boyle Heights   \n",
      "\n",
      "                                          FolderPath  SymbolID  AltMode  Base  \\\n",
      "0  2018 Maps/2018 Bylaw Amendments/Boundary Adjus...         0        0     0   \n",
      "1  2018 Maps/2018 Bylaw Amendments/Boundary Adjus...         1        2     0   \n",
      "2  2018 Maps/2018 Bylaw Amendments/Boundary Adjus...         2        0     0   \n",
      "3  2018 Maps/2018 Bylaw Amendments/Boundary Adjus...         3        3     0   \n",
      "4  2018 Maps/2018 Bylaw Amendments/Boundary Adjus...         4        0     0   \n",
      "\n",
      "   Clamped  Extruded Snippet                      PopupInfo  Shape_Leng  \\\n",
      "0       -1         0             https://empowerla.org/anc/    0.132441   \n",
      "1       -1         0            https://empowerla.org/asnc/    0.232590   \n",
      "2       -1         0             https://empowerla.org/avnc    0.382870   \n",
      "3       -1         0          https://empowerla.org/babcnc/    0.455908   \n",
      "4       -1         0             https://empowerla.org/bhnc    0.160678   \n",
      "\n",
      "   Shape_Area   Shape__Area  Shape__Length  \\\n",
      "0    0.000830  1.244636e+07   16399.372930   \n",
      "1    0.000777  1.162320e+07   28162.321933   \n",
      "2    0.002221  3.325017e+07   46495.563981   \n",
      "3    0.004298  6.432314e+07   55733.805840   \n",
      "4    0.001450  2.168092e+07   20042.980908   \n",
      "\n",
      "                               GlobalID  \\\n",
      "0  a2b9ce7e-4571-49d6-8c8f-4c63604f7e7d   \n",
      "1  bdb8c5af-ab78-43dc-bd99-bc0b9428d333   \n",
      "2  824e3269-9dee-4496-ba11-bcd29b236e36   \n",
      "3  c1ec045d-dd86-4a11-bf7d-d42fd9dacf97   \n",
      "4  4c85b440-3ddd-4f89-bb47-32d7b93fdffe   \n",
      "\n",
      "                                            geometry  \n",
      "0  POLYGON ((-118.45006 34.24992, -118.45057 34.2...  \n",
      "1  POLYGON ((-118.22326 34.10393, -118.22368 34.1...  \n",
      "2  POLYGON ((-118.27577 34.15377, -118.26185 34.1...  \n",
      "3  POLYGON ((-118.47487 34.12635, -118.47412 34.1...  \n",
      "4  POLYGON ((-118.21441 34.06064, -118.21305 34.0...  \n",
      "Shapefile created at ./output_shapefile_neighborhood_council.shp\n"
     ]
    },
    {
     "name": "stderr",
     "output_type": "stream",
     "text": [
      "/home/aletia/wsl_code/hforla-ds-118/utilities.py:59: UserWarning: Column names longer than 10 characters will be truncated when saved to ESRI Shapefile.\n",
      "  gdf.to_file(shapefile_path)\n"
     ]
    }
   ],
   "source": [
    "# The API endpoint URL\n",
    "api_url = 'https://services5.arcgis.com/7nsPwEMP38bSkCjy/arcgis/rest/services/Neighborhood_Council_Boundaries_(2018)/FeatureServer/0/query?where=1%3D1&outFields=*&outSR=4326&f=json'\n",
    "district = \"neighborhood_council\"\n",
    "\n",
    "fetch_and_create_shapefile(api_url, district)"
   ]
  }
 ],
 "metadata": {
  "kernelspec": {
   "display_name": "Python 3",
   "language": "python",
   "name": "python3"
  },
  "language_info": {
   "codemirror_mode": {
    "name": "ipython",
    "version": 3
   },
   "file_extension": ".py",
   "mimetype": "text/x-python",
   "name": "python",
   "nbconvert_exporter": "python",
   "pygments_lexer": "ipython3",
   "version": "3.10.6"
  }
 },
 "nbformat": 4,
 "nbformat_minor": 2
}
