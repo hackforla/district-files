{
 "cells": [
  {
   "cell_type": "code",
   "execution_count": 1,
   "metadata": {},
   "outputs": [],
   "source": [
    "import sys\n",
    "sys.path.append('/home/aletia/wsl_code/hforla-ds-118/')\n",
    "from utilities import fetch_and_create_shapefile, get_folder_size"
   ]
  },
  {
   "cell_type": "code",
   "execution_count": 2,
   "metadata": {},
   "outputs": [
    {
     "name": "stdout",
     "output_type": "stream",
     "text": [
      "   OBJECTID                NAME      Effective Revised  District  \\\n",
      "0         1         Henry Stern  1480896000000    None        27   \n",
      "1         2   Caroline Menjivar  1670198400000    None        20   \n",
      "2         3  Maria Elena Durazo  1670198400000    None        26   \n",
      "3         4           Ben Allen  1417392000000    None        24   \n",
      "4         5     Steven Bradford  1480896000000    None        35   \n",
      "\n",
      "             District_Name                                    TOOLTIP  \\\n",
      "0         27 - Henry Stern         Senator: Henry Stern\\nDistrict: 27   \n",
      "1   20 - Caroline Menjivar   Senator: Caroline Menjivar\\nDistrict: 20   \n",
      "2  26 - Maria Elena Durazo  Senator: Maria Elena Durazo\\nDistrict: 26   \n",
      "3           24 - Ben Allen           Senator: Ben Allen\\nDistrict: 24   \n",
      "4     35 - Steven Bradford     Senator: Steven Bradford\\nDistrict: 35   \n",
      "\n",
      "                                             NLA_URL  \\\n",
      "0  http://sd27.senate.ca.gov/?nla_target=1&nla_wi...   \n",
      "1  http://sd20.senate.ca.gov/?nla_target=1&nla_wi...   \n",
      "2  http://sd26.senate.ca.gov/?nla_target=1&nla_wi...   \n",
      "3  http://sd24.senate.ca.gov/?nla_target=1&nla_wi...   \n",
      "4  http://sd35.senate.ca.gov/?nla_target=1&nla_wi...   \n",
      "\n",
      "                                            geometry  \n",
      "0  POLYGON ((-118.48932 34.31484, -118.48888 34.3...  \n",
      "1  POLYGON ((-118.44053 34.32992, -118.43184 34.3...  \n",
      "2  POLYGON ((-118.30296 34.15854, -118.29884 34.1...  \n",
      "3  POLYGON ((-118.33196 34.14671, -118.33434 34.1...  \n",
      "4  POLYGON ((-118.25591 33.96004, -118.25593 33.9...  \n",
      "Shapefile created at ./output_shapefile_senate.shp\n"
     ]
    },
    {
     "name": "stderr",
     "output_type": "stream",
     "text": [
      "/home/aletia/wsl_code/hforla-ds-118/utilities.py:59: UserWarning: Column names longer than 10 characters will be truncated when saved to ESRI Shapefile.\n",
      "  gdf.to_file(shapefile_path)\n"
     ]
    }
   ],
   "source": [
    "# The API endpoint URL\n",
    "api_url = 'https://maps.lacity.org/lahub/rest/services/Boundaries/MapServer/23/query?where=1%3D1&outFields=*&outSR=4326&f=json'\n",
    "district = \"senate\"\n",
    "\n",
    "fetch_and_create_shapefile(api_url, district)"
   ]
  },
  {
   "cell_type": "code",
   "execution_count": 3,
   "metadata": {},
   "outputs": [
    {
     "data": {
      "text/plain": [
       "260541"
      ]
     },
     "execution_count": 3,
     "metadata": {},
     "output_type": "execute_result"
    }
   ],
   "source": [
    "get_folder_size('/home/aletia/wsl_code/hforla-ds-118/senate-districts')"
   ]
  }
 ],
 "metadata": {
  "kernelspec": {
   "display_name": "Python 3",
   "language": "python",
   "name": "python3"
  },
  "language_info": {
   "codemirror_mode": {
    "name": "ipython",
    "version": 3
   },
   "file_extension": ".py",
   "mimetype": "text/x-python",
   "name": "python",
   "nbconvert_exporter": "python",
   "pygments_lexer": "ipython3",
   "version": "3.10.6"
  }
 },
 "nbformat": 4,
 "nbformat_minor": 2
}
