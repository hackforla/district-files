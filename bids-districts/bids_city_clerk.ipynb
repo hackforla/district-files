{
 "cells": [
  {
   "cell_type": "code",
   "execution_count": 1,
   "metadata": {},
   "outputs": [],
   "source": [
    "import sys\n",
    "sys.path.append('/home/aletia/wsl_code/hforla-ds-118/')\n",
    "from utilities import fetch_and_create_shapefile, get_folder_size"
   ]
  },
  {
   "cell_type": "code",
   "execution_count": 2,
   "metadata": {},
   "outputs": [
    {
     "name": "stdout",
     "output_type": "stream",
     "text": [
      "   OBJECTID                                  PROG_NAME   Shape__Area  \\\n",
      "0         1                  ARTS DISTRICT LOS ANGELES  1.311807e+07   \n",
      "1         2                          BRENTWOOD VILLAGE  3.058263e+05   \n",
      "2         3  BYZANTINE LATINO QUARTER - PICO BOULEVARD  5.835643e+06   \n",
      "3         4                             CENTRAL AVENUE  3.427274e+06   \n",
      "4         5                               CENTURY CITY  8.166739e+06   \n",
      "\n",
      "   Shape__Length                                           geometry  \n",
      "0   25503.185717  POLYGON ((-118.23555 34.05322, -118.23538 34.0...  \n",
      "1    3021.581142  POLYGON ((-118.46858 34.06415, -118.46869 34.0...  \n",
      "2   37302.470651  POLYGON ((-118.28829 34.04814, -118.28829 34.0...  \n",
      "3   23618.857556  POLYGON ((-118.25051 34.02449, -118.24999 34.0...  \n",
      "4   16871.930777  POLYGON ((-118.41226 34.06016, -118.41222 34.0...  \n",
      "Shapefile created at ./output_shapefile_bids_city_clerk.shp\n"
     ]
    },
    {
     "name": "stderr",
     "output_type": "stream",
     "text": [
      "/home/aletia/wsl_code/hforla-ds-118/utilities.py:59: UserWarning: Column names longer than 10 characters will be truncated when saved to ESRI Shapefile.\n",
      "  gdf.to_file(shapefile_path)\n"
     ]
    }
   ],
   "source": [
    "# The API endpoint URL\n",
    "api_url = 'https://services5.arcgis.com/7nsPwEMP38bSkCjy/arcgis/rest/services/Business_Improvement_Districts/FeatureServer/0/query?where=1%3D1&outFields=*&outSR=4326&f=json'\n",
    "district = \"bids_city_clerk\"\n",
    "\n",
    "fetch_and_create_shapefile(api_url, district)\n"
   ]
  },
  {
   "cell_type": "code",
   "execution_count": 3,
   "metadata": {},
   "outputs": [
    {
     "data": {
      "text/plain": [
       "208882"
      ]
     },
     "execution_count": 3,
     "metadata": {},
     "output_type": "execute_result"
    }
   ],
   "source": [
    "get_folder_size('/home/aletia/wsl_code/hforla-ds-118/bids-districts')"
   ]
  }
 ],
 "metadata": {
  "kernelspec": {
   "display_name": "Python 3",
   "language": "python",
   "name": "python3"
  },
  "language_info": {
   "codemirror_mode": {
    "name": "ipython",
    "version": 3
   },
   "file_extension": ".py",
   "mimetype": "text/x-python",
   "name": "python",
   "nbconvert_exporter": "python",
   "pygments_lexer": "ipython3",
   "version": "3.10.6"
  }
 },
 "nbformat": 4,
 "nbformat_minor": 2
}
